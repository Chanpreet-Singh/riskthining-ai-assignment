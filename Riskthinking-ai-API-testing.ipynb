{
 "cells": [
  {
   "cell_type": "code",
   "execution_count": 1,
   "id": "26151127",
   "metadata": {},
   "outputs": [],
   "source": [
    "import json\n",
    "import random\n",
    "import requests"
   ]
  },
  {
   "cell_type": "code",
   "execution_count": 2,
   "id": "32d3cdd7",
   "metadata": {},
   "outputs": [],
   "source": [
    "hosted_url = \"18.219.86.19\"\n",
    "endpoint = \"/predict\"\n",
    "complete_url = \"http://{0}{1}\".format(hosted_url, endpoint)"
   ]
  },
  {
   "cell_type": "markdown",
   "id": "d71029a3",
   "metadata": {},
   "source": [
    "#### When both the parameters are missing.."
   ]
  },
  {
   "cell_type": "code",
   "execution_count": 3,
   "id": "6f17b637",
   "metadata": {},
   "outputs": [
    {
     "name": "stdout",
     "output_type": "stream",
     "text": [
      "Status Code: 422\n",
      "Reason: Unprocessable Entity\n",
      "Detailed description/Result: \n",
      "{\"detail\":[{\"loc\":[\"query\",\"vol_moving_avg\"],\"msg\":\"field required\",\"type\":\"value_error.missing\"},{\"loc\":[\"query\",\"adj_close_rolling_med\"],\"msg\":\"field required\",\"type\":\"value_error.missing\"}]}\n"
     ]
    }
   ],
   "source": [
    "payload = {}\n",
    "resp = requests.get(complete_url, params=payload)\n",
    "print(\"Status Code: {0}\\nReason: {1}\\nDetailed description/Result: \\n{2}\".format(resp.status_code, resp.reason, resp.text))"
   ]
  },
  {
   "cell_type": "markdown",
   "id": "039a3fda",
   "metadata": {},
   "source": [
    "#### When one of the parameters are missing.."
   ]
  },
  {
   "cell_type": "code",
   "execution_count": 4,
   "id": "47e085d9",
   "metadata": {},
   "outputs": [
    {
     "name": "stdout",
     "output_type": "stream",
     "text": [
      "Status Code: 422\n",
      "Reason: Unprocessable Entity\n",
      "Detailed description/Result: \n",
      "{\"detail\":[{\"loc\":[\"query\",\"adj_close_rolling_med\"],\"msg\":\"field required\",\"type\":\"value_error.missing\"}]}\n"
     ]
    }
   ],
   "source": [
    "payload = {\"vol_moving_avg\": 123}\n",
    "resp = requests.get(complete_url, params=payload)\n",
    "print(\"Status Code: {0}\\nReason: {1}\\nDetailed description/Result: \\n{2}\".format(resp.status_code, resp.reason, resp.text))"
   ]
  },
  {
   "cell_type": "code",
   "execution_count": 5,
   "id": "c61f51a3",
   "metadata": {},
   "outputs": [
    {
     "name": "stdout",
     "output_type": "stream",
     "text": [
      "Status Code: 422\n",
      "Reason: Unprocessable Entity\n",
      "Detailed description/Result: \n",
      "{\"detail\":[{\"loc\":[\"query\",\"vol_moving_avg\"],\"msg\":\"field required\",\"type\":\"value_error.missing\"}]}\n"
     ]
    }
   ],
   "source": [
    "payload = {\"adj_close_rolling_med\": 123}\n",
    "resp = requests.get(complete_url, params=payload)\n",
    "print(\"Status Code: {0}\\nReason: {1}\\nDetailed description/Result: \\n{2}\".format(resp.status_code, resp.reason, resp.text))"
   ]
  },
  {
   "cell_type": "markdown",
   "id": "4698cfc9",
   "metadata": {},
   "source": [
    "#### When both of the parameters are present but the input type is not integer"
   ]
  },
  {
   "cell_type": "code",
   "execution_count": 6,
   "id": "ca8b645a",
   "metadata": {},
   "outputs": [
    {
     "name": "stdout",
     "output_type": "stream",
     "text": [
      "Status Code: 422\n",
      "Reason: Unprocessable Entity\n",
      "Detailed description/Result: \n",
      "{\"detail\":[{\"loc\":[\"query\",\"vol_moving_avg\"],\"msg\":\"value is not a valid integer\",\"type\":\"type_error.integer\"}]}\n"
     ]
    }
   ],
   "source": [
    "payload = {\"vol_moving_avg\": \"hello!\", \"adj_close_rolling_med\": 123}\n",
    "resp = requests.get(complete_url, params=payload)\n",
    "print(\"Status Code: {0}\\nReason: {1}\\nDetailed description/Result: \\n{2}\".format(resp.status_code, resp.reason, resp.text))"
   ]
  },
  {
   "cell_type": "code",
   "execution_count": 7,
   "id": "0c08c7d2",
   "metadata": {},
   "outputs": [
    {
     "name": "stdout",
     "output_type": "stream",
     "text": [
      "Status Code: 422\n",
      "Reason: Unprocessable Entity\n",
      "Detailed description/Result: \n",
      "{\"detail\":[{\"loc\":[\"query\",\"vol_moving_avg\"],\"msg\":\"value is not a valid integer\",\"type\":\"type_error.integer\"}]}\n"
     ]
    }
   ],
   "source": [
    "payload = {\"vol_moving_avg\": 14598.4, \"adj_close_rolling_med\": 123}\n",
    "resp = requests.get(complete_url, params=payload)\n",
    "print(\"Status Code: {0}\\nReason: {1}\\nDetailed description/Result: \\n{2}\".format(resp.status_code, resp.reason, resp.text))"
   ]
  },
  {
   "cell_type": "markdown",
   "id": "e772cb67",
   "metadata": {},
   "source": [
    "#### When both of the parameters are present and both the values are integers, = 0"
   ]
  },
  {
   "cell_type": "code",
   "execution_count": 8,
   "id": "2be3656d",
   "metadata": {},
   "outputs": [
    {
     "name": "stdout",
     "output_type": "stream",
     "text": [
      "Status Code: 200\n",
      "Reason: OK\n",
      "Detailed description/Result: \n",
      "0\n"
     ]
    }
   ],
   "source": [
    "payload = {\"vol_moving_avg\": 0, \"adj_close_rolling_med\": 0}\n",
    "resp = requests.get(complete_url, params=payload)\n",
    "print(\"Status Code: {0}\\nReason: {1}\\nDetailed description/Result: \\n{2}\".format(resp.status_code, resp.reason, resp.text))"
   ]
  },
  {
   "cell_type": "markdown",
   "id": "c92ad196",
   "metadata": {},
   "source": [
    "#### When both of the parameters are present and both the values are integers(randomly selected). Following are 10 different use-cases:"
   ]
  },
  {
   "cell_type": "code",
   "execution_count": 9,
   "id": "784aae38",
   "metadata": {},
   "outputs": [
    {
     "name": "stdout",
     "output_type": "stream",
     "text": [
      "Test Case: 1\n",
      "vol_moving_avg=50051\n",
      "adj_close_rolling_med=-85405\n",
      "\n",
      "Status Code: 200\n",
      "Reason: OK\n",
      "Detailed description/Result: \n",
      "173420\n",
      "────────────────────────────────────────────────────────────────────────────────────────────────────\n",
      "Test Case: 2\n",
      "vol_moving_avg=98825\n",
      "adj_close_rolling_med=-27333\n",
      "\n",
      "Status Code: 200\n",
      "Reason: OK\n",
      "Detailed description/Result: \n",
      "57252\n",
      "────────────────────────────────────────────────────────────────────────────────────────────────────\n",
      "Test Case: 3\n",
      "vol_moving_avg=-82608\n",
      "adj_close_rolling_med=35717\n",
      "\n",
      "Status Code: 200\n",
      "Reason: OK\n",
      "Detailed description/Result: \n",
      "0\n",
      "────────────────────────────────────────────────────────────────────────────────────────────────────\n",
      "Test Case: 4\n",
      "vol_moving_avg=-29782\n",
      "adj_close_rolling_med=39181\n",
      "\n",
      "Status Code: 200\n",
      "Reason: OK\n",
      "Detailed description/Result: \n",
      "0\n",
      "────────────────────────────────────────────────────────────────────────────────────────────────────\n",
      "Test Case: 5\n",
      "vol_moving_avg=52404\n",
      "adj_close_rolling_med=-32211\n",
      "\n",
      "Status Code: 200\n",
      "Reason: OK\n",
      "Detailed description/Result: \n",
      "133180\n",
      "────────────────────────────────────────────────────────────────────────────────────────────────────\n",
      "Test Case: 6\n",
      "vol_moving_avg=-51312\n",
      "adj_close_rolling_med=-29607\n",
      "\n",
      "Status Code: 200\n",
      "Reason: OK\n",
      "Detailed description/Result: \n",
      "0\n",
      "────────────────────────────────────────────────────────────────────────────────────────────────────\n",
      "Test Case: 7\n",
      "vol_moving_avg=-74262\n",
      "adj_close_rolling_med=-97867\n",
      "\n",
      "Status Code: 200\n",
      "Reason: OK\n",
      "Detailed description/Result: \n",
      "0\n",
      "────────────────────────────────────────────────────────────────────────────────────────────────────\n",
      "Test Case: 8\n",
      "vol_moving_avg=56364\n",
      "adj_close_rolling_med=-39389\n",
      "\n",
      "Status Code: 200\n",
      "Reason: OK\n",
      "Detailed description/Result: \n",
      "55624\n",
      "────────────────────────────────────────────────────────────────────────────────────────────────────\n",
      "Test Case: 9\n",
      "vol_moving_avg=82816\n",
      "adj_close_rolling_med=61400\n",
      "\n",
      "Status Code: 200\n",
      "Reason: OK\n",
      "Detailed description/Result: \n",
      "38892\n",
      "────────────────────────────────────────────────────────────────────────────────────────────────────\n",
      "Test Case: 10\n",
      "vol_moving_avg=17364\n",
      "adj_close_rolling_med=54335\n",
      "\n",
      "Status Code: 200\n",
      "Reason: OK\n",
      "Detailed description/Result: \n",
      "42328\n",
      "────────────────────────────────────────────────────────────────────────────────────────────────────\n"
     ]
    }
   ],
   "source": [
    "max_val = 99999\n",
    "for i in range(10):\n",
    "    vol = random.randint(-max_val, max_val)\n",
    "    adj_close = random.randint(-max_val, max_val)\n",
    "    payload = {\"vol_moving_avg\": vol,\n",
    "               \"adj_close_rolling_med\": adj_close}\n",
    "    resp = requests.get(complete_url, params=payload)\n",
    "    print(\"Test Case: {0}\\nvol_moving_avg={1}\\nadj_close_rolling_med={2}\\n\".format(i+1, vol, adj_close))\n",
    "    print(\"Status Code: {0}\\nReason: {1}\\nDetailed description/Result: \\n{2}\".format(resp.status_code, resp.reason, json.dumps(resp.json(), indent=2)))\n",
    "    print('─' * 100)"
   ]
  }
 ],
 "metadata": {
  "kernelspec": {
   "display_name": "Python 3 (ipykernel)",
   "language": "python",
   "name": "python3"
  },
  "language_info": {
   "codemirror_mode": {
    "name": "ipython",
    "version": 3
   },
   "file_extension": ".py",
   "mimetype": "text/x-python",
   "name": "python",
   "nbconvert_exporter": "python",
   "pygments_lexer": "ipython3",
   "version": "3.8.10"
  }
 },
 "nbformat": 4,
 "nbformat_minor": 5
}
